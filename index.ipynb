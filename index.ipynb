{
 "cells": [
  {
   "attachments": {},
   "cell_type": "markdown",
   "metadata": {},
   "source": [
    "## Twitter sentiment natural language processing analysis"
   ]
  },
  {
   "attachments": {},
   "cell_type": "markdown",
   "metadata": {},
   "source": [
    "### Stakeholder: A marketing team at a technology company"
   ]
  },
  {
   "attachments": {},
   "cell_type": "markdown",
   "metadata": {},
   "source": [
    "### Business Problem Statement: \n",
    "The marketing team wants to understand consumer sentiment towards Apple and Google products. They wish to explore  emotions, and sentiments expressed by users of Apple and Google products.They need insights that can inform marketing strategies, brand perception, and customer satisfaction initiatives for their target audience.\n"
   ]
  },
  {
   "attachments": {},
   "cell_type": "markdown",
   "metadata": {},
   "source": [
    "### The main business objective is:\n",
    "- What is the overall sentiment towards Apple and Google products on Twitter "
   ]
  },
  {
   "attachments": {},
   "cell_type": "markdown",
   "metadata": {},
   "source": [
    "### The specific business objectives to be answered include:\n",
    "- Are there any recurring themes or topics associated with positive or negative sentiments towards these brands?\n",
    "- Are there any notable differences in sentiment between Apple and Google products?\n"
   ]
  },
  {
   "attachments": {},
   "cell_type": "markdown",
   "metadata": {},
   "source": [
    "### Importing the necessary packages"
   ]
  },
  {
   "cell_type": "code",
   "execution_count": 155,
   "metadata": {},
   "outputs": [
    {
     "name": "stderr",
     "output_type": "stream",
     "text": [
      "[nltk_data] Downloading package punkt to /home/pk/nltk_data...\n",
      "[nltk_data]   Package punkt is already up-to-date!\n",
      "[nltk_data] Downloading package stopwords to /home/pk/nltk_data...\n",
      "[nltk_data]   Package stopwords is already up-to-date!\n",
      "[nltk_data] Downloading package wordnet to /home/pk/nltk_data...\n",
      "[nltk_data]   Package wordnet is already up-to-date!\n"
     ]
    }
   ],
   "source": [
    "import pandas as pd\n",
    "import numpy as np\n",
    "import matplotlib.pyplot as plt\n",
    "import seaborn as sns\n",
    "\n",
    "import nltk\n",
    "nltk.download('punkt')\n",
    "nltk.download('stopwords')\n",
    "nltk.download('wordnet')\n",
    "\n",
    "from nltk.corpus import stopwords\n",
    "from nltk.tokenize import word_tokenize, sent_tokenize\n",
    "from nltk.stem import PorterStemmer, WordNetLemmatizer\n",
    "from wordcloud import WordCloud\n",
    "\n",
    "from sklearn.feature_extraction.text import CountVectorizer, TfidfVectorizer"
   ]
  },
  {
   "cell_type": "code",
   "execution_count": 156,
   "metadata": {},
   "outputs": [
    {
     "data": {
      "text/html": [
       "<div>\n",
       "<style scoped>\n",
       "    .dataframe tbody tr th:only-of-type {\n",
       "        vertical-align: middle;\n",
       "    }\n",
       "\n",
       "    .dataframe tbody tr th {\n",
       "        vertical-align: top;\n",
       "    }\n",
       "\n",
       "    .dataframe thead th {\n",
       "        text-align: right;\n",
       "    }\n",
       "</style>\n",
       "<table border=\"1\" class=\"dataframe\">\n",
       "  <thead>\n",
       "    <tr style=\"text-align: right;\">\n",
       "      <th></th>\n",
       "      <th>tweet_text</th>\n",
       "      <th>emotion_in_tweet_is_directed_at</th>\n",
       "      <th>is_there_an_emotion_directed_at_a_brand_or_product</th>\n",
       "    </tr>\n",
       "  </thead>\n",
       "  <tbody>\n",
       "    <tr>\n",
       "      <th>0</th>\n",
       "      <td>.@wesley83 I have a 3G iPhone. After 3 hrs tweeting at #RISE_Austin, it was dead!  I need to upgrade. Plugin stations at #SXSW.</td>\n",
       "      <td>iPhone</td>\n",
       "      <td>Negative emotion</td>\n",
       "    </tr>\n",
       "    <tr>\n",
       "      <th>1</th>\n",
       "      <td>@jessedee Know about @fludapp ? Awesome iPad/iPhone app that you'll likely appreciate for its design. Also, they're giving free Ts at #SXSW</td>\n",
       "      <td>iPad or iPhone App</td>\n",
       "      <td>Positive emotion</td>\n",
       "    </tr>\n",
       "    <tr>\n",
       "      <th>2</th>\n",
       "      <td>@swonderlin Can not wait for #iPad 2 also. They should sale them down at #SXSW.</td>\n",
       "      <td>iPad</td>\n",
       "      <td>Positive emotion</td>\n",
       "    </tr>\n",
       "    <tr>\n",
       "      <th>3</th>\n",
       "      <td>@sxsw I hope this year's festival isn't as crashy as this year's iPhone app. #sxsw</td>\n",
       "      <td>iPad or iPhone App</td>\n",
       "      <td>Negative emotion</td>\n",
       "    </tr>\n",
       "    <tr>\n",
       "      <th>4</th>\n",
       "      <td>@sxtxstate great stuff on Fri #SXSW: Marissa Mayer (Google), Tim O'Reilly (tech books/conferences) &amp;amp; Matt Mullenweg (Wordpress)</td>\n",
       "      <td>Google</td>\n",
       "      <td>Positive emotion</td>\n",
       "    </tr>\n",
       "  </tbody>\n",
       "</table>\n",
       "</div>"
      ],
      "text/plain": [
       "                                                                                                                                    tweet_text  \\\n",
       "0              .@wesley83 I have a 3G iPhone. After 3 hrs tweeting at #RISE_Austin, it was dead!  I need to upgrade. Plugin stations at #SXSW.   \n",
       "1  @jessedee Know about @fludapp ? Awesome iPad/iPhone app that you'll likely appreciate for its design. Also, they're giving free Ts at #SXSW   \n",
       "2                                                              @swonderlin Can not wait for #iPad 2 also. They should sale them down at #SXSW.   \n",
       "3                                                           @sxsw I hope this year's festival isn't as crashy as this year's iPhone app. #sxsw   \n",
       "4          @sxtxstate great stuff on Fri #SXSW: Marissa Mayer (Google), Tim O'Reilly (tech books/conferences) &amp; Matt Mullenweg (Wordpress)   \n",
       "\n",
       "  emotion_in_tweet_is_directed_at  \\\n",
       "0                          iPhone   \n",
       "1              iPad or iPhone App   \n",
       "2                            iPad   \n",
       "3              iPad or iPhone App   \n",
       "4                          Google   \n",
       "\n",
       "  is_there_an_emotion_directed_at_a_brand_or_product  \n",
       "0                                   Negative emotion  \n",
       "1                                   Positive emotion  \n",
       "2                                   Positive emotion  \n",
       "3                                   Negative emotion  \n",
       "4                                   Positive emotion  "
      ]
     },
     "execution_count": 156,
     "metadata": {},
     "output_type": "execute_result"
    }
   ],
   "source": [
    "df = pd.read_csv('tweet_product_company.csv', encoding='unicode_escape')\n",
    "df.head()"
   ]
  },
  {
   "cell_type": "code",
   "execution_count": 157,
   "metadata": {},
   "outputs": [
    {
     "data": {
      "text/plain": [
       "(9093, 3)"
      ]
     },
     "execution_count": 157,
     "metadata": {},
     "output_type": "execute_result"
    }
   ],
   "source": [
    "df.shape"
   ]
  },
  {
   "cell_type": "code",
   "execution_count": 158,
   "metadata": {},
   "outputs": [
    {
     "data": {
      "text/plain": [
       "No emotion toward brand or product    5389\n",
       "Positive emotion                      2978\n",
       "Negative emotion                       570\n",
       "I can't tell                           156\n",
       "Name: is_there_an_emotion_directed_at_a_brand_or_product, dtype: int64"
      ]
     },
     "execution_count": 158,
     "metadata": {},
     "output_type": "execute_result"
    }
   ],
   "source": [
    "df.is_there_an_emotion_directed_at_a_brand_or_product.value_counts()"
   ]
  },
  {
   "cell_type": "code",
   "execution_count": 159,
   "metadata": {},
   "outputs": [],
   "source": [
    "df.rename(columns ={'is_there_an_emotion_directed_at_a_brand_or_product' : 'sentiment', 'emotion_in_tweet_is_directed_at' : 'brand'}, inplace= True)"
   ]
  },
  {
   "cell_type": "code",
   "execution_count": 160,
   "metadata": {},
   "outputs": [],
   "source": [
    "df['sentiment'] = df['sentiment'].replace('No emotion toward brand or product', 'neutral')"
   ]
  },
  {
   "cell_type": "code",
   "execution_count": 161,
   "metadata": {},
   "outputs": [
    {
     "data": {
      "text/plain": [
       "<AxesSubplot:xlabel='sentiment', ylabel='count'>"
      ]
     },
     "execution_count": 161,
     "metadata": {},
     "output_type": "execute_result"
    },
    {
     "data": {
      "image/png": "[encoded data removed]",
      "text/plain": [
       "<Figure size 1500x800 with 1 Axes>"
      ]
     },
     "metadata": {},
     "output_type": "display_data"
    }
   ],
   "source": [
    "plt.figure(figsize = (15,8))\n",
    "sns.countplot(x='sentiment', data= df)"
   ]
  },
  {
   "cell_type": "code",
   "execution_count": 162,
   "metadata": {},
   "outputs": [
    {
     "data": {
      "text/plain": [
       "tweet_text       1\n",
       "brand         5802\n",
       "sentiment        0\n",
       "dtype: int64"
      ]
     },
     "execution_count": 162,
     "metadata": {},
     "output_type": "execute_result"
    }
   ],
   "source": [
    "df.isna().sum()"
   ]
  },
  {
   "cell_type": "code",
   "execution_count": 163,
   "metadata": {},
   "outputs": [],
   "source": [
    "df['tweet_text'] = df['tweet_text'].str.lower()\n",
    "df['brand'] = df['brand'].str.lower()"
   ]
  },
  {
   "cell_type": "code",
   "execution_count": 164,
   "metadata": {},
   "outputs": [
    {
     "data": {
      "text/html": [
       "<div>\n",
       "<style scoped>\n",
       "    .dataframe tbody tr th:only-of-type {\n",
       "        vertical-align: middle;\n",
       "    }\n",
       "\n",
       "    .dataframe tbody tr th {\n",
       "        vertical-align: top;\n",
       "    }\n",
       "\n",
       "    .dataframe thead th {\n",
       "        text-align: right;\n",
       "    }\n",
       "</style>\n",
       "<table border=\"1\" class=\"dataframe\">\n",
       "  <thead>\n",
       "    <tr style=\"text-align: right;\">\n",
       "      <th></th>\n",
       "      <th>tweet_text</th>\n",
       "      <th>brand</th>\n",
       "      <th>sentiment</th>\n",
       "    </tr>\n",
       "  </thead>\n",
       "  <tbody>\n",
       "    <tr>\n",
       "      <th>5</th>\n",
       "      <td>@teachntech00 new ipad apps for #speechtherapy and communication are showcased at the #sxsw conference http://ht.ly/49n4m #iear #edchat #asd</td>\n",
       "      <td>NaN</td>\n",
       "      <td>neutral</td>\n",
       "    </tr>\n",
       "    <tr>\n",
       "      <th>6</th>\n",
       "      <td>NaN</td>\n",
       "      <td>NaN</td>\n",
       "      <td>neutral</td>\n",
       "    </tr>\n",
       "    <tr>\n",
       "      <th>16</th>\n",
       "      <td>holler gram for ipad on the itunes app store -  http://t.co/kfn3f5q (via @marc_is_ken) #sxsw</td>\n",
       "      <td>NaN</td>\n",
       "      <td>neutral</td>\n",
       "    </tr>\n",
       "    <tr>\n",
       "      <th>32</th>\n",
       "      <td>attn: all  #sxsw frineds, @mention register for #gdgtlive  and see cobra iradar for android. {link}</td>\n",
       "      <td>NaN</td>\n",
       "      <td>neutral</td>\n",
       "    </tr>\n",
       "    <tr>\n",
       "      <th>33</th>\n",
       "      <td>anyone at  #sxsw want to sell their old ipad?</td>\n",
       "      <td>NaN</td>\n",
       "      <td>neutral</td>\n",
       "    </tr>\n",
       "    <tr>\n",
       "      <th>34</th>\n",
       "      <td>anyone at  #sxsw who bought the new ipad want to sell their older ipad to me?</td>\n",
       "      <td>NaN</td>\n",
       "      <td>neutral</td>\n",
       "    </tr>\n",
       "    <tr>\n",
       "      <th>35</th>\n",
       "      <td>at #sxsw.  oooh. rt @mention google to launch major new social network called circles, possibly today {link}</td>\n",
       "      <td>NaN</td>\n",
       "      <td>neutral</td>\n",
       "    </tr>\n",
       "    <tr>\n",
       "      <th>37</th>\n",
       "      <td>spin play - a new concept in music discovery for your ipad from @mention &amp;amp; spin.com {link} #itunes #sxsw @mention</td>\n",
       "      <td>NaN</td>\n",
       "      <td>neutral</td>\n",
       "    </tr>\n",
       "    <tr>\n",
       "      <th>39</th>\n",
       "      <td>vatornews - google and apple force print media to evolve? {link} #sxsw</td>\n",
       "      <td>NaN</td>\n",
       "      <td>neutral</td>\n",
       "    </tr>\n",
       "    <tr>\n",
       "      <th>41</th>\n",
       "      <td>hootsuite - hootsuite mobile for #sxsw ~ updates for iphone, blackberry &amp;amp; android: whether youûªre getting friend... {link}</td>\n",
       "      <td>NaN</td>\n",
       "      <td>neutral</td>\n",
       "    </tr>\n",
       "  </tbody>\n",
       "</table>\n",
       "</div>"
      ],
      "text/plain": [
       "                                                                                                                                      tweet_text  \\\n",
       "5   @teachntech00 new ipad apps for #speechtherapy and communication are showcased at the #sxsw conference http://ht.ly/49n4m #iear #edchat #asd   \n",
       "6                                                                                                                                            NaN   \n",
       "16                                                  holler gram for ipad on the itunes app store -  http://t.co/kfn3f5q (via @marc_is_ken) #sxsw   \n",
       "32                                           attn: all  #sxsw frineds, @mention register for #gdgtlive  and see cobra iradar for android. {link}   \n",
       "33                                                                                                 anyone at  #sxsw want to sell their old ipad?   \n",
       "34                                                                 anyone at  #sxsw who bought the new ipad want to sell their older ipad to me?   \n",
       "35                                  at #sxsw.  oooh. rt @mention google to launch major new social network called circles, possibly today {link}   \n",
       "37                         spin play - a new concept in music discovery for your ipad from @mention &amp; spin.com {link} #itunes #sxsw @mention   \n",
       "39                                                                        vatornews - google and apple force print media to evolve? {link} #sxsw   \n",
       "41              hootsuite - hootsuite mobile for #sxsw ~ updates for iphone, blackberry &amp; android: whether youûªre getting friend... {link}   \n",
       "\n",
       "   brand sentiment  \n",
       "5    NaN   neutral  \n",
       "6    NaN   neutral  \n",
       "16   NaN   neutral  \n",
       "32   NaN   neutral  \n",
       "33   NaN   neutral  \n",
       "34   NaN   neutral  \n",
       "35   NaN   neutral  \n",
       "37   NaN   neutral  \n",
       "39   NaN   neutral  \n",
       "41   NaN   neutral  "
      ]
     },
     "execution_count": 164,
     "metadata": {},
     "output_type": "execute_result"
    }
   ],
   "source": [
    "missing_brand_df = df[df['brand'].isna()]\n",
    "missing_brand_df.head(10)"
   ]
  },
  {
   "cell_type": "code",
   "execution_count": 165,
   "metadata": {},
   "outputs": [
    {
     "data": {
      "text/plain": [
       "(5802, 3)"
      ]
     },
     "execution_count": 165,
     "metadata": {},
     "output_type": "execute_result"
    }
   ],
   "source": [
    "missing_brand_df.shape"
   ]
  },
  {
   "cell_type": "code",
   "execution_count": 166,
   "metadata": {},
   "outputs": [
    {
     "data": {
      "text/plain": [
       "ipad                               946\n",
       "apple                              661\n",
       "ipad or iphone app                 470\n",
       "google                             430\n",
       "iphone                             297\n",
       "other google product or service    293\n",
       "android app                         81\n",
       "android                             78\n",
       "other apple product or service      35\n",
       "Name: brand, dtype: int64"
      ]
     },
     "execution_count": 166,
     "metadata": {},
     "output_type": "execute_result"
    }
   ],
   "source": [
    "df.brand.value_counts()"
   ]
  },
  {
   "cell_type": "code",
   "execution_count": 154,
   "metadata": {},
   "outputs": [],
   "source": [
    "# Replace missing values with an empty string\n",
    "# df['tweet_text'] = df['tweet_text'].fillna('')\n",
    "df.dropna(subset=['tweet_text'], inplace=True)\n",
    "\n",
    "# Define the keywords to search for\n",
    "keywords = ['apple', 'ipad or iphone app', 'google', 'iphone', 'other google product or service', 'android app', 'android', 'other apple product or service', 'ipad', 'itunes']\n",
    "\n",
    "# Search for keywords in 'tweet_text' column\n",
    "filtered_df = missing_brand_df[missing_brand_df['tweet_text'].str.contains('|'.join(keywords), case=False)]"
   ]
  },
  {
   "cell_type": "code",
   "execution_count": 135,
   "metadata": {},
   "outputs": [
    {
     "data": {
      "text/html": [
       "<div>\n",
       "<style scoped>\n",
       "    .dataframe tbody tr th:only-of-type {\n",
       "        vertical-align: middle;\n",
       "    }\n",
       "\n",
       "    .dataframe tbody tr th {\n",
       "        vertical-align: top;\n",
       "    }\n",
       "\n",
       "    .dataframe thead th {\n",
       "        text-align: right;\n",
       "    }\n",
       "</style>\n",
       "<table border=\"1\" class=\"dataframe\">\n",
       "  <thead>\n",
       "    <tr style=\"text-align: right;\">\n",
       "      <th></th>\n",
       "      <th>tweet_text</th>\n",
       "      <th>brand</th>\n",
       "      <th>sentiment</th>\n",
       "    </tr>\n",
       "  </thead>\n",
       "  <tbody>\n",
       "    <tr>\n",
       "      <th>5</th>\n",
       "      <td>@teachntech00 new ipad apps for #speechtherapy and communication are showcased at the #sxsw conference http://ht.ly/49n4m #iear #edchat #asd</td>\n",
       "      <td>NaN</td>\n",
       "      <td>neutral</td>\n",
       "    </tr>\n",
       "    <tr>\n",
       "      <th>16</th>\n",
       "      <td>holler gram for ipad on the itunes app store -  http://t.co/kfn3f5q (via @marc_is_ken) #sxsw</td>\n",
       "      <td>NaN</td>\n",
       "      <td>neutral</td>\n",
       "    </tr>\n",
       "    <tr>\n",
       "      <th>32</th>\n",
       "      <td>attn: all  #sxsw frineds, @mention register for #gdgtlive  and see cobra iradar for android. {link}</td>\n",
       "      <td>NaN</td>\n",
       "      <td>neutral</td>\n",
       "    </tr>\n",
       "    <tr>\n",
       "      <th>33</th>\n",
       "      <td>anyone at  #sxsw want to sell their old ipad?</td>\n",
       "      <td>NaN</td>\n",
       "      <td>neutral</td>\n",
       "    </tr>\n",
       "    <tr>\n",
       "      <th>34</th>\n",
       "      <td>anyone at  #sxsw who bought the new ipad want to sell their older ipad to me?</td>\n",
       "      <td>NaN</td>\n",
       "      <td>neutral</td>\n",
       "    </tr>\n",
       "    <tr>\n",
       "      <th>35</th>\n",
       "      <td>at #sxsw.  oooh. rt @mention google to launch major new social network called circles, possibly today {link}</td>\n",
       "      <td>NaN</td>\n",
       "      <td>neutral</td>\n",
       "    </tr>\n",
       "    <tr>\n",
       "      <th>37</th>\n",
       "      <td>spin play - a new concept in music discovery for your ipad from @mention &amp;amp; spin.com {link} #itunes #sxsw @mention</td>\n",
       "      <td>NaN</td>\n",
       "      <td>neutral</td>\n",
       "    </tr>\n",
       "    <tr>\n",
       "      <th>39</th>\n",
       "      <td>vatornews - google and apple force print media to evolve? {link} #sxsw</td>\n",
       "      <td>NaN</td>\n",
       "      <td>neutral</td>\n",
       "    </tr>\n",
       "    <tr>\n",
       "      <th>41</th>\n",
       "      <td>hootsuite - hootsuite mobile for #sxsw ~ updates for iphone, blackberry &amp;amp; android: whether youûªre getting friend... {link}</td>\n",
       "      <td>NaN</td>\n",
       "      <td>neutral</td>\n",
       "    </tr>\n",
       "    <tr>\n",
       "      <th>42</th>\n",
       "      <td>hey #sxsw - how long do you think it takes us to make an iphone case? answer @mention using #zazzlesxsw and weûªll make you one!</td>\n",
       "      <td>NaN</td>\n",
       "      <td>neutral</td>\n",
       "    </tr>\n",
       "  </tbody>\n",
       "</table>\n",
       "</div>"
      ],
      "text/plain": [
       "                                                                                                                                      tweet_text  \\\n",
       "5   @teachntech00 new ipad apps for #speechtherapy and communication are showcased at the #sxsw conference http://ht.ly/49n4m #iear #edchat #asd   \n",
       "16                                                  holler gram for ipad on the itunes app store -  http://t.co/kfn3f5q (via @marc_is_ken) #sxsw   \n",
       "32                                           attn: all  #sxsw frineds, @mention register for #gdgtlive  and see cobra iradar for android. {link}   \n",
       "33                                                                                                 anyone at  #sxsw want to sell their old ipad?   \n",
       "34                                                                 anyone at  #sxsw who bought the new ipad want to sell their older ipad to me?   \n",
       "35                                  at #sxsw.  oooh. rt @mention google to launch major new social network called circles, possibly today {link}   \n",
       "37                         spin play - a new concept in music discovery for your ipad from @mention &amp; spin.com {link} #itunes #sxsw @mention   \n",
       "39                                                                        vatornews - google and apple force print media to evolve? {link} #sxsw   \n",
       "41              hootsuite - hootsuite mobile for #sxsw ~ updates for iphone, blackberry &amp; android: whether youûªre getting friend... {link}   \n",
       "42             hey #sxsw - how long do you think it takes us to make an iphone case? answer @mention using #zazzlesxsw and weûªll make you one!   \n",
       "\n",
       "   brand sentiment  \n",
       "5    NaN   neutral  \n",
       "16   NaN   neutral  \n",
       "32   NaN   neutral  \n",
       "33   NaN   neutral  \n",
       "34   NaN   neutral  \n",
       "35   NaN   neutral  \n",
       "37   NaN   neutral  \n",
       "39   NaN   neutral  \n",
       "41   NaN   neutral  \n",
       "42   NaN   neutral  "
      ]
     },
     "execution_count": 135,
     "metadata": {},
     "output_type": "execute_result"
    }
   ],
   "source": [
    "filtered_df.head(10)"
   ]
  },
  {
   "cell_type": "code",
   "execution_count": 136,
   "metadata": {},
   "outputs": [
    {
     "data": {
      "text/plain": [
       "(5095, 3)"
      ]
     },
     "execution_count": 136,
     "metadata": {},
     "output_type": "execute_result"
    }
   ],
   "source": [
    "filtered_df.shape"
   ]
  },
  {
   "cell_type": "code",
   "execution_count": 137,
   "metadata": {},
   "outputs": [
    {
     "name": "stderr",
     "output_type": "stream",
     "text": [
      "/tmp/ipykernel_6642/2583434774.py:2: SettingWithCopyWarning: \n",
      "A value is trying to be set on a copy of a slice from a DataFrame.\n",
      "Try using .loc[row_indexer,col_indexer] = value instead\n",
      "\n",
      "See the caveats in the documentation: https://pandas.pydata.org/pandas-docs/stable/user_guide/indexing.html#returning-a-view-versus-a-copy\n",
      "  filtered_df['brand'] = filtered_df['tweet_text'].apply(lambda x: next((word for word in keywords if word in x), None))\n"
     ]
    }
   ],
   "source": [
    "# Assign the keyword value to the 'brand' column\n",
    "filtered_df['brand'] = filtered_df['tweet_text'].apply(lambda x: next((word for word in keywords if word in x), None))"
   ]
  },
  {
   "cell_type": "code",
   "execution_count": 138,
   "metadata": {},
   "outputs": [
    {
     "data": {
      "text/html": [
       "<div>\n",
       "<style scoped>\n",
       "    .dataframe tbody tr th:only-of-type {\n",
       "        vertical-align: middle;\n",
       "    }\n",
       "\n",
       "    .dataframe tbody tr th {\n",
       "        vertical-align: top;\n",
       "    }\n",
       "\n",
       "    .dataframe thead th {\n",
       "        text-align: right;\n",
       "    }\n",
       "</style>\n",
       "<table border=\"1\" class=\"dataframe\">\n",
       "  <thead>\n",
       "    <tr style=\"text-align: right;\">\n",
       "      <th></th>\n",
       "      <th>tweet_text</th>\n",
       "      <th>brand</th>\n",
       "      <th>sentiment</th>\n",
       "    </tr>\n",
       "  </thead>\n",
       "  <tbody>\n",
       "    <tr>\n",
       "      <th>5</th>\n",
       "      <td>@teachntech00 new ipad apps for #speechtherapy and communication are showcased at the #sxsw conference http://ht.ly/49n4m #iear #edchat #asd</td>\n",
       "      <td>ipad</td>\n",
       "      <td>neutral</td>\n",
       "    </tr>\n",
       "    <tr>\n",
       "      <th>16</th>\n",
       "      <td>holler gram for ipad on the itunes app store -  http://t.co/kfn3f5q (via @marc_is_ken) #sxsw</td>\n",
       "      <td>ipad</td>\n",
       "      <td>neutral</td>\n",
       "    </tr>\n",
       "    <tr>\n",
       "      <th>32</th>\n",
       "      <td>attn: all  #sxsw frineds, @mention register for #gdgtlive  and see cobra iradar for android. {link}</td>\n",
       "      <td>android</td>\n",
       "      <td>neutral</td>\n",
       "    </tr>\n",
       "    <tr>\n",
       "      <th>33</th>\n",
       "      <td>anyone at  #sxsw want to sell their old ipad?</td>\n",
       "      <td>ipad</td>\n",
       "      <td>neutral</td>\n",
       "    </tr>\n",
       "    <tr>\n",
       "      <th>34</th>\n",
       "      <td>anyone at  #sxsw who bought the new ipad want to sell their older ipad to me?</td>\n",
       "      <td>ipad</td>\n",
       "      <td>neutral</td>\n",
       "    </tr>\n",
       "    <tr>\n",
       "      <th>35</th>\n",
       "      <td>at #sxsw.  oooh. rt @mention google to launch major new social network called circles, possibly today {link}</td>\n",
       "      <td>google</td>\n",
       "      <td>neutral</td>\n",
       "    </tr>\n",
       "    <tr>\n",
       "      <th>37</th>\n",
       "      <td>spin play - a new concept in music discovery for your ipad from @mention &amp;amp; spin.com {link} #itunes #sxsw @mention</td>\n",
       "      <td>ipad</td>\n",
       "      <td>neutral</td>\n",
       "    </tr>\n",
       "    <tr>\n",
       "      <th>39</th>\n",
       "      <td>vatornews - google and apple force print media to evolve? {link} #sxsw</td>\n",
       "      <td>apple</td>\n",
       "      <td>neutral</td>\n",
       "    </tr>\n",
       "    <tr>\n",
       "      <th>41</th>\n",
       "      <td>hootsuite - hootsuite mobile for #sxsw ~ updates for iphone, blackberry &amp;amp; android: whether youûªre getting friend... {link}</td>\n",
       "      <td>iphone</td>\n",
       "      <td>neutral</td>\n",
       "    </tr>\n",
       "    <tr>\n",
       "      <th>42</th>\n",
       "      <td>hey #sxsw - how long do you think it takes us to make an iphone case? answer @mention using #zazzlesxsw and weûªll make you one!</td>\n",
       "      <td>iphone</td>\n",
       "      <td>neutral</td>\n",
       "    </tr>\n",
       "  </tbody>\n",
       "</table>\n",
       "</div>"
      ],
      "text/plain": [
       "                                                                                                                                      tweet_text  \\\n",
       "5   @teachntech00 new ipad apps for #speechtherapy and communication are showcased at the #sxsw conference http://ht.ly/49n4m #iear #edchat #asd   \n",
       "16                                                  holler gram for ipad on the itunes app store -  http://t.co/kfn3f5q (via @marc_is_ken) #sxsw   \n",
       "32                                           attn: all  #sxsw frineds, @mention register for #gdgtlive  and see cobra iradar for android. {link}   \n",
       "33                                                                                                 anyone at  #sxsw want to sell their old ipad?   \n",
       "34                                                                 anyone at  #sxsw who bought the new ipad want to sell their older ipad to me?   \n",
       "35                                  at #sxsw.  oooh. rt @mention google to launch major new social network called circles, possibly today {link}   \n",
       "37                         spin play - a new concept in music discovery for your ipad from @mention &amp; spin.com {link} #itunes #sxsw @mention   \n",
       "39                                                                        vatornews - google and apple force print media to evolve? {link} #sxsw   \n",
       "41              hootsuite - hootsuite mobile for #sxsw ~ updates for iphone, blackberry &amp; android: whether youûªre getting friend... {link}   \n",
       "42             hey #sxsw - how long do you think it takes us to make an iphone case? answer @mention using #zazzlesxsw and weûªll make you one!   \n",
       "\n",
       "      brand sentiment  \n",
       "5      ipad   neutral  \n",
       "16     ipad   neutral  \n",
       "32  android   neutral  \n",
       "33     ipad   neutral  \n",
       "34     ipad   neutral  \n",
       "35   google   neutral  \n",
       "37     ipad   neutral  \n",
       "39    apple   neutral  \n",
       "41   iphone   neutral  \n",
       "42   iphone   neutral  "
      ]
     },
     "execution_count": 138,
     "metadata": {},
     "output_type": "execute_result"
    }
   ],
   "source": [
    "filtered_df.head(10)"
   ]
  },
  {
   "cell_type": "code",
   "execution_count": 139,
   "metadata": {},
   "outputs": [
    {
     "data": {
      "text/plain": [
       "(5095, 3)"
      ]
     },
     "execution_count": 139,
     "metadata": {},
     "output_type": "execute_result"
    }
   ],
   "source": [
    "filtered_df.shape"
   ]
  },
  {
   "cell_type": "code",
   "execution_count": 140,
   "metadata": {},
   "outputs": [
    {
     "data": {
      "text/plain": [
       "tweet_text    0\n",
       "brand         0\n",
       "sentiment     0\n",
       "dtype: int64"
      ]
     },
     "execution_count": 140,
     "metadata": {},
     "output_type": "execute_result"
    }
   ],
   "source": [
    "filtered_df.isna().sum()"
   ]
  },
  {
   "attachments": {},
   "cell_type": "markdown",
   "metadata": {},
   "source": [
    "- df-doesn`t have any missing values= 9093\n",
    "- missing_brand_df= 5802\n",
    "- filtered_df = 5095\n",
    "- result_df = 707\n",
    "- concatenated_df = 8386\n"
   ]
  },
  {
   "cell_type": "code",
   "execution_count": 145,
   "metadata": {},
   "outputs": [
    {
     "name": "stderr",
     "output_type": "stream",
     "text": [
      "/tmp/ipykernel_6642/543324589.py:9: FutureWarning: Passing a set as an indexer is deprecated and will raise in a future version. Use a list instead.\n",
      "  result_df = df.loc[result_set]\n"
     ]
    },
    {
     "data": {
      "text/html": [
       "<div>\n",
       "<style scoped>\n",
       "    .dataframe tbody tr th:only-of-type {\n",
       "        vertical-align: middle;\n",
       "    }\n",
       "\n",
       "    .dataframe tbody tr th {\n",
       "        vertical-align: top;\n",
       "    }\n",
       "\n",
       "    .dataframe thead th {\n",
       "        text-align: right;\n",
       "    }\n",
       "</style>\n",
       "<table border=\"1\" class=\"dataframe\">\n",
       "  <thead>\n",
       "    <tr style=\"text-align: right;\">\n",
       "      <th></th>\n",
       "      <th>tweet_text</th>\n",
       "      <th>brand</th>\n",
       "      <th>sentiment</th>\n",
       "    </tr>\n",
       "  </thead>\n",
       "  <tbody>\n",
       "    <tr>\n",
       "      <th>6095</th>\n",
       "      <td>rt @mention if you are attending #sxsw, please bring your old mobile phones for the hope phones project {link}  @mention</td>\n",
       "      <td>NaN</td>\n",
       "      <td>neutral</td>\n",
       "    </tr>\n",
       "    <tr>\n",
       "      <th>8142</th>\n",
       "      <td>#sxsw #sxswi @mention is holding a secret show ft. mister heavenly+michael cera at 5. free beer at 4. location: {link}</td>\n",
       "      <td>NaN</td>\n",
       "      <td>neutral</td>\n",
       "    </tr>\n",
       "    <tr>\n",
       "      <th>8144</th>\n",
       "      <td>day 4: sxswi wrap-up with tracy shea @mention and rick and bobby liebling @mention - {link} #sxsw #hotsheet</td>\n",
       "      <td>NaN</td>\n",
       "      <td>neutral</td>\n",
       "    </tr>\n",
       "    <tr>\n",
       "      <th>2007</th>\n",
       "      <td>lonely planet has made the austin guide free for #sxsw grab it, you never know when you will need it. {link}</td>\n",
       "      <td>NaN</td>\n",
       "      <td>neutral</td>\n",
       "    </tr>\n",
       "    <tr>\n",
       "      <th>4055</th>\n",
       "      <td>no umbrella when you have &amp;quot;the list&amp;quot; via @mention ÷¼ are you all set? ÷_ {link} ÷_ #edchat #musedchat #sxsw #sxswi #newtwitter</td>\n",
       "      <td>NaN</td>\n",
       "      <td>neutral</td>\n",
       "    </tr>\n",
       "    <tr>\n",
       "      <th>8156</th>\n",
       "      <td>#wahoos #sxsw party free beers, tacos, and ritas thurs.\\n{link}</td>\n",
       "      <td>NaN</td>\n",
       "      <td>neutral</td>\n",
       "    </tr>\n",
       "    <tr>\n",
       "      <th>6110</th>\n",
       "      <td>rt @mention if you're at #sxsw : meet us at fado. we will give you wristbands that magically lead to beer. come say hi! {link}</td>\n",
       "      <td>NaN</td>\n",
       "      <td>neutral</td>\n",
       "    </tr>\n",
       "    <tr>\n",
       "      <th>2016</th>\n",
       "      <td>@mention announces #windowsphone app today #sxsw {link} #wp7</td>\n",
       "      <td>NaN</td>\n",
       "      <td>neutral</td>\n",
       "    </tr>\n",
       "    <tr>\n",
       "      <th>4065</th>\n",
       "      <td>24 hours later, we retreat back to our hotel, bushwhacked. ringo deathstarr'd, never seen so many effects pedals  #sxsw {link}</td>\n",
       "      <td>NaN</td>\n",
       "      <td>neutral</td>\n",
       "    </tr>\n",
       "    <tr>\n",
       "      <th>4066</th>\n",
       "      <td>grab the latest @mention before #sxsw! {link}</td>\n",
       "      <td>NaN</td>\n",
       "      <td>neutral</td>\n",
       "    </tr>\n",
       "    <tr>\n",
       "      <th>6114</th>\n",
       "      <td>rt @mention if you're racing around #sxsw, you best be fueling up with great local fare\\n#eatshopaustinapp {link}</td>\n",
       "      <td>NaN</td>\n",
       "      <td>neutral</td>\n",
       "    </tr>\n",
       "    <tr>\n",
       "      <th>2020</th>\n",
       "      <td>austinl fans: rt @mention head over to {link} by 1pm cst today to win vip access to my acoustic solo set at #sxsw tonight</td>\n",
       "      <td>NaN</td>\n",
       "      <td>neutral</td>\n",
       "    </tr>\n",
       "    <tr>\n",
       "      <th>6115</th>\n",
       "      <td>rt @mention if you're trying to contact friends or family in #japan, @mention has created a person finder: {link} #sxsw</td>\n",
       "      <td>NaN</td>\n",
       "      <td>neutral</td>\n",
       "    </tr>\n",
       "    <tr>\n",
       "      <th>8160</th>\n",
       "      <td>all you #sxsw tweeps, check out our homies @mention this thursday. {link}</td>\n",
       "      <td>NaN</td>\n",
       "      <td>neutral</td>\n",
       "    </tr>\n",
       "    <tr>\n",
       "      <th>8164</th>\n",
       "      <td>@mention sxsw.  first lecture: why my phone should turn off the stove. http://bit.ly/reword_app\\n#sxsw #reword #appstore</td>\n",
       "      <td>NaN</td>\n",
       "      <td>neutral</td>\n",
       "    </tr>\n",
       "    <tr>\n",
       "      <th>6120</th>\n",
       "      <td>rt @mention important: make sure you're donating to the japanese red cross for #japan: {link} #sxswcares #sxsw #quake (pls rt)</td>\n",
       "      <td>NaN</td>\n",
       "      <td>neutral</td>\n",
       "    </tr>\n",
       "    <tr>\n",
       "      <th>6124</th>\n",
       "      <td>rt @mention in case you missed #sxsw news coverage, we were featured in today's fast company:  {link}</td>\n",
       "      <td>NaN</td>\n",
       "      <td>neutral</td>\n",
       "    </tr>\n",
       "    <tr>\n",
       "      <th>6125</th>\n",
       "      <td>rt @mention in front of @mention popup store at #sxsw last night {link}</td>\n",
       "      <td>NaN</td>\n",
       "      <td>neutral</td>\n",
       "    </tr>\n",
       "    <tr>\n",
       "      <th>6137</th>\n",
       "      <td>rt @mention interesting rt @mention @mention to launch major new social network called circles, possibly today {link} #sxsw</td>\n",
       "      <td>NaN</td>\n",
       "      <td>neutral</td>\n",
       "    </tr>\n",
       "    <tr>\n",
       "      <th>8186</th>\n",
       "      <td>thanks! rt @mention awesome presentation on digital magazines {link} #touchingstories #sxsw #gsdm</td>\n",
       "      <td>NaN</td>\n",
       "      <td>neutral</td>\n",
       "    </tr>\n",
       "  </tbody>\n",
       "</table>\n",
       "</div>"
      ],
      "text/plain": [
       "                                                                                                                                       tweet_text  \\\n",
       "6095                     rt @mention if you are attending #sxsw, please bring your old mobile phones for the hope phones project {link}  @mention   \n",
       "8142                       #sxsw #sxswi @mention is holding a secret show ft. mister heavenly+michael cera at 5. free beer at 4. location: {link}   \n",
       "8144                                  day 4: sxswi wrap-up with tracy shea @mention and rick and bobby liebling @mention - {link} #sxsw #hotsheet   \n",
       "2007                                 lonely planet has made the austin guide free for #sxsw grab it, you never know when you will need it. {link}   \n",
       "4055  no umbrella when you have &quot;the list&quot; via @mention ÷¼ are you all set? ÷_ {link} ÷_ #edchat #musedchat #sxsw #sxswi #newtwitter   \n",
       "8156                                                                              #wahoos #sxsw party free beers, tacos, and ritas thurs.\\n{link}   \n",
       "6110               rt @mention if you're at #sxsw : meet us at fado. we will give you wristbands that magically lead to beer. come say hi! {link}   \n",
       "2016                                                                                 @mention announces #windowsphone app today #sxsw {link} #wp7   \n",
       "4065               24 hours later, we retreat back to our hotel, bushwhacked. ringo deathstarr'd, never seen so many effects pedals  #sxsw {link}   \n",
       "4066                                                                                                grab the latest @mention before #sxsw! {link}   \n",
       "6114                            rt @mention if you're racing around #sxsw, you best be fueling up with great local fare\\n#eatshopaustinapp {link}   \n",
       "2020                    austinl fans: rt @mention head over to {link} by 1pm cst today to win vip access to my acoustic solo set at #sxsw tonight   \n",
       "6115                      rt @mention if you're trying to contact friends or family in #japan, @mention has created a person finder: {link} #sxsw   \n",
       "8160                                                                    all you #sxsw tweeps, check out our homies @mention this thursday. {link}   \n",
       "8164                     @mention sxsw.  first lecture: why my phone should turn off the stove. http://bit.ly/reword_app\\n#sxsw #reword #appstore   \n",
       "6120               rt @mention important: make sure you're donating to the japanese red cross for #japan: {link} #sxswcares #sxsw #quake (pls rt)   \n",
       "6124                                        rt @mention in case you missed #sxsw news coverage, we were featured in today's fast company:  {link}   \n",
       "6125                                                                      rt @mention in front of @mention popup store at #sxsw last night {link}   \n",
       "6137                  rt @mention interesting rt @mention @mention to launch major new social network called circles, possibly today {link} #sxsw   \n",
       "8186                                            thanks! rt @mention awesome presentation on digital magazines {link} #touchingstories #sxsw #gsdm   \n",
       "\n",
       "     brand sentiment  \n",
       "6095   NaN   neutral  \n",
       "8142   NaN   neutral  \n",
       "8144   NaN   neutral  \n",
       "2007   NaN   neutral  \n",
       "4055   NaN   neutral  \n",
       "8156   NaN   neutral  \n",
       "6110   NaN   neutral  \n",
       "2016   NaN   neutral  \n",
       "4065   NaN   neutral  \n",
       "4066   NaN   neutral  \n",
       "6114   NaN   neutral  \n",
       "2020   NaN   neutral  \n",
       "6115   NaN   neutral  \n",
       "8160   NaN   neutral  \n",
       "8164   NaN   neutral  \n",
       "6120   NaN   neutral  \n",
       "6124   NaN   neutral  \n",
       "6125   NaN   neutral  \n",
       "6137   NaN   neutral  \n",
       "8186   NaN   neutral  "
      ]
     },
     "execution_count": 145,
     "metadata": {},
     "output_type": "execute_result"
    }
   ],
   "source": [
    "# Convert the relevant columns to sets\n",
    "missing_brand_set = set(missing_brand_df.index)\n",
    "filtered_set = set(filtered_df.index)\n",
    "\n",
    "# Find the rows in missing_brand_df not in filtered_df using set difference\n",
    "result_set = missing_brand_set - filtered_set\n",
    "\n",
    "# Create the resulting DataFrame\n",
    "result_df = df.loc[result_set]\n",
    "\n",
    "# Display the resulting DataFrame\n",
    "pd.set_option('display.max_colwidth', None)\n",
    "result_df.tail(20)\n"
   ]
  },
  {
   "cell_type": "code",
   "execution_count": 142,
   "metadata": {},
   "outputs": [
    {
     "data": {
      "text/plain": [
       "(707, 3)"
      ]
     },
     "execution_count": 142,
     "metadata": {},
     "output_type": "execute_result"
    }
   ],
   "source": [
    "result_df.shape"
   ]
  },
  {
   "cell_type": "code",
   "execution_count": 144,
   "metadata": {},
   "outputs": [
    {
     "data": {
      "text/plain": [
       "0.07775211701308699"
      ]
     },
     "execution_count": 144,
     "metadata": {},
     "output_type": "execute_result"
    }
   ],
   "source": [
    "707/9093"
   ]
  },
  {
   "cell_type": "code",
   "execution_count": 151,
   "metadata": {},
   "outputs": [
    {
     "data": {
      "text/html": [
       "<div>\n",
       "<style scoped>\n",
       "    .dataframe tbody tr th:only-of-type {\n",
       "        vertical-align: middle;\n",
       "    }\n",
       "\n",
       "    .dataframe tbody tr th {\n",
       "        vertical-align: top;\n",
       "    }\n",
       "\n",
       "    .dataframe thead th {\n",
       "        text-align: right;\n",
       "    }\n",
       "</style>\n",
       "<table border=\"1\" class=\"dataframe\">\n",
       "  <thead>\n",
       "    <tr style=\"text-align: right;\">\n",
       "      <th></th>\n",
       "      <th>tweet_text</th>\n",
       "      <th>brand</th>\n",
       "      <th>sentiment</th>\n",
       "    </tr>\n",
       "  </thead>\n",
       "  <tbody>\n",
       "    <tr>\n",
       "      <th>0</th>\n",
       "      <td>.@wesley83 i have a 3g iphone. after 3 hrs tweeting at #rise_austin, it was dead!  i need to upgrade. plugin stations at #sxsw.</td>\n",
       "      <td>iphone</td>\n",
       "      <td>Negative emotion</td>\n",
       "    </tr>\n",
       "    <tr>\n",
       "      <th>1</th>\n",
       "      <td>@jessedee know about @fludapp ? awesome ipad/iphone app that you'll likely appreciate for its design. also, they're giving free ts at #sxsw</td>\n",
       "      <td>ipad or iphone app</td>\n",
       "      <td>Positive emotion</td>\n",
       "    </tr>\n",
       "    <tr>\n",
       "      <th>2</th>\n",
       "      <td>@swonderlin can not wait for #ipad 2 also. they should sale them down at #sxsw.</td>\n",
       "      <td>ipad</td>\n",
       "      <td>Positive emotion</td>\n",
       "    </tr>\n",
       "    <tr>\n",
       "      <th>3</th>\n",
       "      <td>@sxsw i hope this year's festival isn't as crashy as this year's iphone app. #sxsw</td>\n",
       "      <td>ipad or iphone app</td>\n",
       "      <td>Negative emotion</td>\n",
       "    </tr>\n",
       "    <tr>\n",
       "      <th>4</th>\n",
       "      <td>@sxtxstate great stuff on fri #sxsw: marissa mayer (google), tim o'reilly (tech books/conferences) &amp;amp; matt mullenweg (wordpress)</td>\n",
       "      <td>google</td>\n",
       "      <td>Positive emotion</td>\n",
       "    </tr>\n",
       "    <tr>\n",
       "      <th>5</th>\n",
       "      <td>#sxsw is just starting, #ctia is around the corner and #googleio is only a hop skip and a jump from there, good time to be an #android fan</td>\n",
       "      <td>android</td>\n",
       "      <td>Positive emotion</td>\n",
       "    </tr>\n",
       "    <tr>\n",
       "      <th>6</th>\n",
       "      <td>beautifully smart and simple idea rt @madebymany @thenextweb wrote about our #hollergram ipad app for #sxsw! http://bit.ly/ieavob</td>\n",
       "      <td>ipad or iphone app</td>\n",
       "      <td>Positive emotion</td>\n",
       "    </tr>\n",
       "    <tr>\n",
       "      <th>7</th>\n",
       "      <td>counting down the days to #sxsw plus strong canadian dollar means stock up on apple gear</td>\n",
       "      <td>apple</td>\n",
       "      <td>Positive emotion</td>\n",
       "    </tr>\n",
       "    <tr>\n",
       "      <th>8</th>\n",
       "      <td>excited to meet the @samsungmobileus at #sxsw so i can show them my sprint galaxy s still running android 2.1.   #fail</td>\n",
       "      <td>android</td>\n",
       "      <td>Positive emotion</td>\n",
       "    </tr>\n",
       "    <tr>\n",
       "      <th>9</th>\n",
       "      <td>find &amp;amp; start impromptu parties at #sxsw with @hurricaneparty http://bit.ly/gvlrin i can't wait til the android app comes out.</td>\n",
       "      <td>android app</td>\n",
       "      <td>Positive emotion</td>\n",
       "    </tr>\n",
       "  </tbody>\n",
       "</table>\n",
       "</div>"
      ],
      "text/plain": [
       "                                                                                                                                    tweet_text  \\\n",
       "0              .@wesley83 i have a 3g iphone. after 3 hrs tweeting at #rise_austin, it was dead!  i need to upgrade. plugin stations at #sxsw.   \n",
       "1  @jessedee know about @fludapp ? awesome ipad/iphone app that you'll likely appreciate for its design. also, they're giving free ts at #sxsw   \n",
       "2                                                              @swonderlin can not wait for #ipad 2 also. they should sale them down at #sxsw.   \n",
       "3                                                           @sxsw i hope this year's festival isn't as crashy as this year's iphone app. #sxsw   \n",
       "4          @sxtxstate great stuff on fri #sxsw: marissa mayer (google), tim o'reilly (tech books/conferences) &amp; matt mullenweg (wordpress)   \n",
       "5   #sxsw is just starting, #ctia is around the corner and #googleio is only a hop skip and a jump from there, good time to be an #android fan   \n",
       "6            beautifully smart and simple idea rt @madebymany @thenextweb wrote about our #hollergram ipad app for #sxsw! http://bit.ly/ieavob   \n",
       "7                                                     counting down the days to #sxsw plus strong canadian dollar means stock up on apple gear   \n",
       "8                       excited to meet the @samsungmobileus at #sxsw so i can show them my sprint galaxy s still running android 2.1.   #fail   \n",
       "9            find &amp; start impromptu parties at #sxsw with @hurricaneparty http://bit.ly/gvlrin i can't wait til the android app comes out.   \n",
       "\n",
       "                brand         sentiment  \n",
       "0              iphone  Negative emotion  \n",
       "1  ipad or iphone app  Positive emotion  \n",
       "2                ipad  Positive emotion  \n",
       "3  ipad or iphone app  Negative emotion  \n",
       "4              google  Positive emotion  \n",
       "5             android  Positive emotion  \n",
       "6  ipad or iphone app  Positive emotion  \n",
       "7               apple  Positive emotion  \n",
       "8             android  Positive emotion  \n",
       "9         android app  Positive emotion  "
      ]
     },
     "execution_count": 151,
     "metadata": {},
     "output_type": "execute_result"
    }
   ],
   "source": [
    "df_brand_present = df[df['brand'].notna()]\n",
    "# Assuming 'df_brand_present' and 'filtered_df' are your DataFrames\n",
    "concatenated_df = pd.concat([df_brand_present, filtered_df], ignore_index=True)\n",
    "\n",
    "# Display the concatenated DataFrame\n",
    "concatenated_df.head(10)\n"
   ]
  },
  {
   "cell_type": "code",
   "execution_count": 167,
   "metadata": {},
   "outputs": [
    {
     "data": {
      "text/plain": [
       "(8386, 3)"
      ]
     },
     "execution_count": 167,
     "metadata": {},
     "output_type": "execute_result"
    }
   ],
   "source": [
    "concatenated_df.shape"
   ]
  },
  {
   "cell_type": "code",
   "execution_count": 168,
   "metadata": {},
   "outputs": [
    {
     "data": {
      "text/plain": [
       "tweet_text    0\n",
       "brand         0\n",
       "sentiment     0\n",
       "dtype: int64"
      ]
     },
     "execution_count": 168,
     "metadata": {},
     "output_type": "execute_result"
    }
   ],
   "source": [
    "concatenated_df.isna().sum()"
   ]
  },
  {
   "attachments": {},
   "cell_type": "markdown",
   "metadata": {},
   "source": [
    "### Dropping duplicates"
   ]
  },
  {
   "cell_type": "code",
   "execution_count": 178,
   "metadata": {},
   "outputs": [],
   "source": [
    "duplicates_df = concatenated_df[concatenated_df.duplicated()]"
   ]
  },
  {
   "cell_type": "code",
   "execution_count": 182,
   "metadata": {},
   "outputs": [
    {
     "data": {
      "text/html": [
       "<div>\n",
       "<style scoped>\n",
       "    .dataframe tbody tr th:only-of-type {\n",
       "        vertical-align: middle;\n",
       "    }\n",
       "\n",
       "    .dataframe tbody tr th {\n",
       "        vertical-align: top;\n",
       "    }\n",
       "\n",
       "    .dataframe thead th {\n",
       "        text-align: right;\n",
       "    }\n",
       "</style>\n",
       "<table border=\"1\" class=\"dataframe\">\n",
       "  <thead>\n",
       "    <tr style=\"text-align: right;\">\n",
       "      <th></th>\n",
       "      <th>tweet_text</th>\n",
       "      <th>brand</th>\n",
       "      <th>sentiment</th>\n",
       "    </tr>\n",
       "  </thead>\n",
       "  <tbody>\n",
       "    <tr>\n",
       "      <th>197</th>\n",
       "      <td>before it even begins, apple wins #sxsw {link}</td>\n",
       "      <td>apple</td>\n",
       "      <td>Positive emotion</td>\n",
       "    </tr>\n",
       "    <tr>\n",
       "      <th>198</th>\n",
       "      <td>before it even begins, apple wins #sxsw {link}</td>\n",
       "      <td>apple</td>\n",
       "      <td>Positive emotion</td>\n",
       "    </tr>\n",
       "    <tr>\n",
       "      <th>272</th>\n",
       "      <td>if you're in a room full of people w/good wi-fi at #sxsw run #frostwire on your android {link} share pics, apps, vids w/others</td>\n",
       "      <td>android app</td>\n",
       "      <td>Positive emotion</td>\n",
       "    </tr>\n",
       "    <tr>\n",
       "      <th>970</th>\n",
       "      <td>counting down the days to #sxsw plus strong canadian dollar means stock up on apple gear</td>\n",
       "      <td>apple</td>\n",
       "      <td>Positive emotion</td>\n",
       "    </tr>\n",
       "    <tr>\n",
       "      <th>1445</th>\n",
       "      <td>win free ipad 2 from webdoc.com #sxsw rt</td>\n",
       "      <td>ipad</td>\n",
       "      <td>Positive emotion</td>\n",
       "    </tr>\n",
       "    <tr>\n",
       "      <th>1499</th>\n",
       "      <td>really enjoying the changes in gowalla 3.0 for android! looking forward to seeing what else they &amp;amp; foursquare have up their sleeves at #sxsw</td>\n",
       "      <td>android app</td>\n",
       "      <td>Positive emotion</td>\n",
       "    </tr>\n",
       "    <tr>\n",
       "      <th>1507</th>\n",
       "      <td>#sxsw is just starting, #ctia is around the corner and #googleio is only a hop skip and a jump from there, good time to be an #android fan</td>\n",
       "      <td>android</td>\n",
       "      <td>Positive emotion</td>\n",
       "    </tr>\n",
       "    <tr>\n",
       "      <th>1901</th>\n",
       "      <td>oh. my. god. the #sxsw app for ipad is pure, unadulterated awesome. it's easier to browse events on ipad than on the website!!!</td>\n",
       "      <td>ipad or iphone app</td>\n",
       "      <td>Positive emotion</td>\n",
       "    </tr>\n",
       "    <tr>\n",
       "      <th>2322</th>\n",
       "      <td>rt @mention marissa mayer: google will connect the digital &amp;amp; physical worlds through mobile - {link} #sxsw</td>\n",
       "      <td>google</td>\n",
       "      <td>Positive emotion</td>\n",
       "    </tr>\n",
       "    <tr>\n",
       "      <th>2323</th>\n",
       "      <td>rt @mention marissa mayer: google will connect the digital &amp;amp; physical worlds through mobile - {link} #sxsw</td>\n",
       "      <td>google</td>\n",
       "      <td>Positive emotion</td>\n",
       "    </tr>\n",
       "    <tr>\n",
       "      <th>2324</th>\n",
       "      <td>rt @mention marissa mayer: google will connect the digital &amp;amp; physical worlds through mobile - {link} #sxsw</td>\n",
       "      <td>google</td>\n",
       "      <td>Positive emotion</td>\n",
       "    </tr>\n",
       "    <tr>\n",
       "      <th>3074</th>\n",
       "      <td>i just noticed dst is coming this weekend. how many iphone users will be an hour late at sxsw come sunday morning? #sxsw #iphone</td>\n",
       "      <td>iphone</td>\n",
       "      <td>Negative emotion</td>\n",
       "    </tr>\n",
       "    <tr>\n",
       "      <th>3162</th>\n",
       "      <td>need to buy an ipad2 while i'm in austin at #sxsw. not sure if i'll need to q up at an austin apple store?</td>\n",
       "      <td>ipad</td>\n",
       "      <td>Positive emotion</td>\n",
       "    </tr>\n",
       "    <tr>\n",
       "      <th>3674</th>\n",
       "      <td>google to launch major new social network called circles, possibly today {link} #sxsw</td>\n",
       "      <td>google</td>\n",
       "      <td>neutral</td>\n",
       "    </tr>\n",
       "    <tr>\n",
       "      <th>3675</th>\n",
       "      <td>google to launch major new social network called circles, possibly today {link} #sxsw</td>\n",
       "      <td>google</td>\n",
       "      <td>neutral</td>\n",
       "    </tr>\n",
       "    <tr>\n",
       "      <th>3693</th>\n",
       "      <td>google to launch major new social network called circles, possibly today at #sxsw {link}</td>\n",
       "      <td>google</td>\n",
       "      <td>neutral</td>\n",
       "    </tr>\n",
       "    <tr>\n",
       "      <th>4485</th>\n",
       "      <td>marissa mayer: google will connect the digital &amp;amp; physical worlds through mobile - {link} #sxsw</td>\n",
       "      <td>google</td>\n",
       "      <td>neutral</td>\n",
       "    </tr>\n",
       "    <tr>\n",
       "      <th>4486</th>\n",
       "      <td>marissa mayer: google will connect the digital &amp;amp; physical worlds through mobile - {link} #sxsw</td>\n",
       "      <td>google</td>\n",
       "      <td>neutral</td>\n",
       "    </tr>\n",
       "    <tr>\n",
       "      <th>5356</th>\n",
       "      <td>win free ipad 2 from webdoc.com #sxsw rt</td>\n",
       "      <td>ipad</td>\n",
       "      <td>neutral</td>\n",
       "    </tr>\n",
       "    <tr>\n",
       "      <th>5357</th>\n",
       "      <td>win free ipad 2 from webdoc.com #sxsw rt</td>\n",
       "      <td>ipad</td>\n",
       "      <td>neutral</td>\n",
       "    </tr>\n",
       "  </tbody>\n",
       "</table>\n",
       "</div>"
      ],
      "text/plain": [
       "                                                                                                                                            tweet_text  \\\n",
       "197                                                                                                     before it even begins, apple wins #sxsw {link}   \n",
       "198                                                                                                     before it even begins, apple wins #sxsw {link}   \n",
       "272                     if you're in a room full of people w/good wi-fi at #sxsw run #frostwire on your android {link} share pics, apps, vids w/others   \n",
       "970                                                           counting down the days to #sxsw plus strong canadian dollar means stock up on apple gear   \n",
       "1445                                                                                                          win free ipad 2 from webdoc.com #sxsw rt   \n",
       "1499  really enjoying the changes in gowalla 3.0 for android! looking forward to seeing what else they &amp; foursquare have up their sleeves at #sxsw   \n",
       "1507        #sxsw is just starting, #ctia is around the corner and #googleio is only a hop skip and a jump from there, good time to be an #android fan   \n",
       "1901                   oh. my. god. the #sxsw app for ipad is pure, unadulterated awesome. it's easier to browse events on ipad than on the website!!!   \n",
       "2322                                    rt @mention marissa mayer: google will connect the digital &amp; physical worlds through mobile - {link} #sxsw   \n",
       "2323                                    rt @mention marissa mayer: google will connect the digital &amp; physical worlds through mobile - {link} #sxsw   \n",
       "2324                                    rt @mention marissa mayer: google will connect the digital &amp; physical worlds through mobile - {link} #sxsw   \n",
       "3074                  i just noticed dst is coming this weekend. how many iphone users will be an hour late at sxsw come sunday morning? #sxsw #iphone   \n",
       "3162                                        need to buy an ipad2 while i'm in austin at #sxsw. not sure if i'll need to q up at an austin apple store?   \n",
       "3674                                                             google to launch major new social network called circles, possibly today {link} #sxsw   \n",
       "3675                                                             google to launch major new social network called circles, possibly today {link} #sxsw   \n",
       "3693                                                          google to launch major new social network called circles, possibly today at #sxsw {link}   \n",
       "4485                                                marissa mayer: google will connect the digital &amp; physical worlds through mobile - {link} #sxsw   \n",
       "4486                                                marissa mayer: google will connect the digital &amp; physical worlds through mobile - {link} #sxsw   \n",
       "5356                                                                                                          win free ipad 2 from webdoc.com #sxsw rt   \n",
       "5357                                                                                                          win free ipad 2 from webdoc.com #sxsw rt   \n",
       "\n",
       "                   brand         sentiment  \n",
       "197                apple  Positive emotion  \n",
       "198                apple  Positive emotion  \n",
       "272          android app  Positive emotion  \n",
       "970                apple  Positive emotion  \n",
       "1445                ipad  Positive emotion  \n",
       "1499         android app  Positive emotion  \n",
       "1507             android  Positive emotion  \n",
       "1901  ipad or iphone app  Positive emotion  \n",
       "2322              google  Positive emotion  \n",
       "2323              google  Positive emotion  \n",
       "2324              google  Positive emotion  \n",
       "3074              iphone  Negative emotion  \n",
       "3162                ipad  Positive emotion  \n",
       "3674              google           neutral  \n",
       "3675              google           neutral  \n",
       "3693              google           neutral  \n",
       "4485              google           neutral  \n",
       "4486              google           neutral  \n",
       "5356                ipad           neutral  \n",
       "5357                ipad           neutral  "
      ]
     },
     "execution_count": 182,
     "metadata": {},
     "output_type": "execute_result"
    }
   ],
   "source": [
    "duplicates_df.head(20)"
   ]
  },
  {
   "cell_type": "code",
   "execution_count": 183,
   "metadata": {},
   "outputs": [],
   "source": [
    "concatenated_df.drop_duplicates(inplace=True)"
   ]
  },
  {
   "cell_type": "code",
   "execution_count": 184,
   "metadata": {},
   "outputs": [
    {
     "data": {
      "text/plain": [
       "(8347, 3)"
      ]
     },
     "execution_count": 184,
     "metadata": {},
     "output_type": "execute_result"
    }
   ],
   "source": [
    "concatenated_df.shape"
   ]
  }
 ],
 "metadata": {
  "kernelspec": {
   "display_name": "base",
   "language": "python",
   "name": "python3"
  },
  "language_info": {
   "codemirror_mode": {
    "name": "ipython",
    "version": 3
   },
   "file_extension": ".py",
   "mimetype": "text/x-python",
   "name": "python",
   "nbconvert_exporter": "python",
   "pygments_lexer": "ipython3",
   "version": "3.9.13"
  },
  "orig_nbformat": 4
 },
 "nbformat": 4,
 "nbformat_minor": 2
}
